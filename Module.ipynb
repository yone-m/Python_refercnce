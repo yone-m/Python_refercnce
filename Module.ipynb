{
 "cells": [
  {
   "cell_type": "markdown",
   "metadata": {},
   "source": [
    "## モジュール"
   ]
  },
  {
   "cell_type": "markdown",
   "metadata": {},
   "source": [
    "### bisect"
   ]
  },
  {
   "cell_type": "markdown",
   "metadata": {},
   "source": [
    "### re\n",
    "**正規表現**(regular expression)"
   ]
  },
  {
   "cell_type": "code",
   "execution_count": 1,
   "metadata": {},
   "outputs": [],
   "source": [
    "import re"
   ]
  },
  {
   "cell_type": "markdown",
   "metadata": {},
   "source": [
    "#### メソッド\n",
    "- matchメソッド:文字列の先頭とマッチするかを調べる    \n",
    "re.match(パターン,文字列)   \n",
    "- searchメソッド:文字列の任意の部分とマッチするか調べる    \n",
    "- fullmatchメソッド:文字列の全体にマッチするか調べる  \n",
    "  \n",
    "どれも戻り値が，   \n",
    "マッチした場合：マッチオブジェクト    \n",
    "マッチしなかった場合：None    \n",
    "を返す．  \n",
    "\n",
    "- compileメソッド:引数に正規表現パターンを表す文字列を渡すことができる．戻り値はRegexパターンオブジェクト．  \n",
    "\n",
    "-"
   ]
  },
  {
   "cell_type": "markdown",
   "metadata": {},
   "source": [
    "#### 正規表現パターン\n",
    "\n",
    "|記号|意味|\n",
    "|:--|:--|\n",
    "|?|直前のグループの0回か1回の出現にマッチ|\n",
    "|\\*|直前のグループの0回以上の出現にマッチ|\n",
    "|+|直前のグループの1回以上の出現にマッチ|\n",
    "|{n}|直前のグループのn回の出現にマッチ|\n",
    "|{n,}|直前のグループのn回以上の出現にマッチ|\n",
    "|{,m}|直前のグループの0～m回以上の出現にマッチ|\n",
    "|^abc|abcから始まる文字列にマッチ|\n",
    "|abc$|abcで終わる文字列にマッチ|\n",
    "|.|改行以外の任意の1文字にマッチ|"
   ]
  },
  {
   "cell_type": "code",
   "execution_count": null,
   "metadata": {},
   "outputs": [],
   "source": []
  }
 ],
 "metadata": {
  "kernelspec": {
   "display_name": "Python 3.8.2 64-bit",
   "language": "python",
   "name": "python38264bite513cacf2d1a40fc96e4023b18037327"
  },
  "language_info": {
   "codemirror_mode": {
    "name": "ipython",
    "version": 3
   },
   "file_extension": ".py",
   "mimetype": "text/x-python",
   "name": "python",
   "nbconvert_exporter": "python",
   "pygments_lexer": "ipython3",
   "version": "3.8.2"
  },
  "toc": {
   "base_numbering": 1,
   "nav_menu": {},
   "number_sections": true,
   "sideBar": true,
   "skip_h1_title": false,
   "title_cell": "Table of Contents",
   "title_sidebar": "Contents",
   "toc_cell": false,
   "toc_position": {},
   "toc_section_display": true,
   "toc_window_display": false
  }
 },
 "nbformat": 4,
 "nbformat_minor": 4
}
