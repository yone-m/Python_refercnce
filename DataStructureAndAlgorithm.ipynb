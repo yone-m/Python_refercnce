{
 "cells": [
  {
   "cell_type": "markdown",
   "metadata": {},
   "source": [
    "## データ構造とアルゴリズム"
   ]
  },
  {
   "cell_type": "markdown",
   "metadata": {},
   "source": [
    "### 内包表記"
   ]
  },
  {
   "cell_type": "markdown",
   "metadata": {},
   "source": [
    "リストの内包表記    \n",
    "[式　for 変数　in イテラブル]"
   ]
  },
  {
   "cell_type": "code",
   "execution_count": 6,
   "metadata": {},
   "outputs": [
    {
     "name": "stdout",
     "output_type": "stream",
     "text": [
      "[1, 4, 9, 16, 25, 36, 49, 64, 81]\n"
     ]
    }
   ],
   "source": [
    "a=[]\n",
    "for x in range(1,10):\n",
    "    a.append(x**2)\n",
    "print(a)"
   ]
  },
  {
   "cell_type": "code",
   "execution_count": 8,
   "metadata": {},
   "outputs": [
    {
     "name": "stdout",
     "output_type": "stream",
     "text": [
      "[1, 4, 9, 16, 25, 36, 49, 64, 81]\n"
     ]
    }
   ],
   "source": [
    "b=[x**2 for x in range(1,10)]\n",
    "print(b)"
   ]
  },
  {
   "cell_type": "markdown",
   "metadata": {},
   "source": [
    "#### 内包表記とif"
   ]
  },
  {
   "cell_type": "code",
   "execution_count": 10,
   "metadata": {},
   "outputs": [
    {
     "name": "stdout",
     "output_type": "stream",
     "text": [
      "[4, 16, 36, 64]\n"
     ]
    }
   ],
   "source": [
    "c=[x**2 for x in range(1,10) if x**2%2==0]\n",
    "print(c)"
   ]
  },
  {
   "cell_type": "markdown",
   "metadata": {},
   "source": [
    "#### 内包表記と三項演算子"
   ]
  },
  {
   "cell_type": "code",
   "execution_count": 13,
   "metadata": {},
   "outputs": [
    {
     "name": "stdout",
     "output_type": "stream",
     "text": [
      "['Odd', 'Even', 'Odd', 'Even', 'Odd', 'Even', 'Odd', 'Even', 'Odd']\n"
     ]
    }
   ],
   "source": [
    "d=[\"Even\" if x**2%2==0 else \"Odd\" for x in range(1,10)]\n",
    "print(d)"
   ]
  },
  {
   "cell_type": "markdown",
   "metadata": {},
   "source": [
    "#### ジェネレータ式   \n",
    "内包表記と似た記法にジェネレータ式がある    \n",
    "(式 for 変数 in イテラブル)"
   ]
  },
  {
   "cell_type": "code",
   "execution_count": 14,
   "metadata": {},
   "outputs": [
    {
     "name": "stdout",
     "output_type": "stream",
     "text": [
      "[1, 4, 9, 16, 25, 36, 49, 64, 81]\n"
     ]
    }
   ],
   "source": [
    "number=[x**2 for x in range(1,10)]\n",
    "print(number)"
   ]
  },
  {
   "cell_type": "code",
   "execution_count": 23,
   "metadata": {},
   "outputs": [
    {
     "name": "stdout",
     "output_type": "stream",
     "text": [
      "<generator object <genexpr> at 0x0000025A3E2A0890>\n"
     ]
    }
   ],
   "source": [
    "number2=(x**2 for x in range(1,10))\n",
    "print(number2)"
   ]
  },
  {
   "cell_type": "code",
   "execution_count": 24,
   "metadata": {},
   "outputs": [
    {
     "name": "stdout",
     "output_type": "stream",
     "text": [
      "1\n",
      "4\n",
      "9\n",
      "16\n",
      "25\n",
      "36\n",
      "49\n",
      "64\n",
      "81\n"
     ]
    }
   ],
   "source": [
    "for n in number:\n",
    "    print(n)"
   ]
  },
  {
   "cell_type": "code",
   "execution_count": 25,
   "metadata": {},
   "outputs": [
    {
     "name": "stdout",
     "output_type": "stream",
     "text": [
      "1\n",
      "4\n",
      "9\n",
      "16\n",
      "25\n",
      "36\n",
      "49\n",
      "64\n",
      "81\n"
     ]
    }
   ],
   "source": [
    "for n2 in number2:\n",
    "    print(n2)"
   ]
  },
  {
   "cell_type": "markdown",
   "metadata": {},
   "source": [
    "##### yield文"
   ]
  },
  {
   "cell_type": "code",
   "execution_count": 27,
   "metadata": {},
   "outputs": [
    {
     "data": {
      "text/plain": [
       "1"
      ]
     },
     "execution_count": 27,
     "metadata": {},
     "output_type": "execute_result"
    }
   ],
   "source": [
    "def do_return():\n",
    "    return 1\n",
    "    return 2\n",
    "do_return()"
   ]
  },
  {
   "cell_type": "code",
   "execution_count": 29,
   "metadata": {},
   "outputs": [
    {
     "data": {
      "text/plain": [
       "<generator object do_yield at 0x0000025A3DAE9F20>"
      ]
     },
     "execution_count": 29,
     "metadata": {},
     "output_type": "execute_result"
    }
   ],
   "source": [
    "def do_yield():\n",
    "    yield 1\n",
    "    yield 2\n",
    "do_yield()"
   ]
  },
  {
   "cell_type": "code",
   "execution_count": 30,
   "metadata": {},
   "outputs": [
    {
     "name": "stdout",
     "output_type": "stream",
     "text": [
      "1\n",
      "2\n"
     ]
    }
   ],
   "source": [
    "for i in do_yield():\n",
    "    print(i)"
   ]
  },
  {
   "cell_type": "markdown",
   "metadata": {},
   "source": [
    "### bit全探索"
   ]
  },
  {
   "cell_type": "markdown",
   "metadata": {},
   "source": [
    "#### bin関数  \n",
    "使い方：bin(x)（xは10進数の数字）で，先頭に0bをつけた2進数表記を返す，"
   ]
  },
  {
   "cell_type": "markdown",
   "metadata": {},
   "source": [
    "#### bit全探索の方法\n",
    "iを2進数表記した数が下から数えてn桁目が1であるかをチェックするためには，```(i>>n) & 1```でチェックする．  \n",
    "これは，iを右にn桁シフトすると（(1/2)^nすると），最初はn桁目にあった数字が1桁目にくる．  \n",
    "そして，これが1かどうかを調べている．"
   ]
  },
  {
   "cell_type": "markdown",
   "metadata": {},
   "source": [
    "##### 実践\n",
    "No.1:与えられた集合の部分集合を全て求めよ．\n",
    "集合：{みかん，りんご，ぶどう}"
   ]
  },
  {
   "cell_type": "code",
   "execution_count": 1,
   "metadata": {},
   "outputs": [],
   "source": [
    "item=(\"みかん\",\"りんご\",\"ぶどう\")\n",
    "n=3"
   ]
  },
  {
   "cell_type": "code",
   "execution_count": 4,
   "metadata": {},
   "outputs": [
    {
     "name": "stdout",
     "output_type": "stream",
     "text": [
      "pattern0:[]\n",
      "pattern1:['みかん']\n",
      "pattern2:['りんご']\n",
      "pattern3:['みかん', 'りんご']\n",
      "pattern4:['ぶどう']\n",
      "pattern5:['みかん', 'ぶどう']\n",
      "pattern6:['りんご', 'ぶどう']\n",
      "pattern7:['みかん', 'りんご', 'ぶどう']\n"
     ]
    }
   ],
   "source": [
    "#i=0,1,2,3,4,5,6,7\n",
    "for i in range(2**n):\n",
    "    bag=[]\n",
    "    print(\"pattern{}:\".format(i),end=\"\")\n",
    "    #j=0,1,2\n",
    "    for j in range(n):\n",
    "        #i(2進数)をj桁右にシフトさせたとき1桁目が1であるか？\n",
    "        #⇔iのj桁目が1であるか？\n",
    "        if ((i >> j)& 1):\n",
    "            #もしそうならj番目のitemをbagに入れる\n",
    "            bag.append(item[j])\n",
    "    print(bag)"
   ]
  },
  {
   "cell_type": "markdown",
   "metadata": {},
   "source": [
    "No.2:0から4までの数字の部分集合を全て求めよ．また，それぞれの和を求めよ．"
   ]
  },
  {
   "cell_type": "code",
   "execution_count": 6,
   "metadata": {},
   "outputs": [
    {
     "name": "stdout",
     "output_type": "stream",
     "text": [
      "pattern0:[]合計は 0\n",
      "pattern1:[0]合計は 0\n",
      "pattern2:[1]合計は 1\n",
      "pattern3:[0, 1]合計は 1\n",
      "pattern4:[2]合計は 2\n",
      "pattern5:[0, 2]合計は 2\n",
      "pattern6:[1, 2]合計は 3\n",
      "pattern7:[0, 1, 2]合計は 3\n",
      "pattern8:[3]合計は 3\n",
      "pattern9:[0, 3]合計は 3\n",
      "pattern10:[1, 3]合計は 4\n",
      "pattern11:[0, 1, 3]合計は 4\n",
      "pattern12:[2, 3]合計は 5\n",
      "pattern13:[0, 2, 3]合計は 5\n",
      "pattern14:[1, 2, 3]合計は 6\n",
      "pattern15:[0, 1, 2, 3]合計は 6\n",
      "pattern16:[4]合計は 4\n",
      "pattern17:[0, 4]合計は 4\n",
      "pattern18:[1, 4]合計は 5\n",
      "pattern19:[0, 1, 4]合計は 5\n",
      "pattern20:[2, 4]合計は 6\n",
      "pattern21:[0, 2, 4]合計は 6\n",
      "pattern22:[1, 2, 4]合計は 7\n",
      "pattern23:[0, 1, 2, 4]合計は 7\n",
      "pattern24:[3, 4]合計は 7\n",
      "pattern25:[0, 3, 4]合計は 7\n",
      "pattern26:[1, 3, 4]合計は 8\n",
      "pattern27:[0, 1, 3, 4]合計は 8\n",
      "pattern28:[2, 3, 4]合計は 9\n",
      "pattern29:[0, 2, 3, 4]合計は 9\n",
      "pattern30:[1, 2, 3, 4]合計は 10\n",
      "pattern31:[0, 1, 2, 3, 4]合計は 10\n"
     ]
    }
   ],
   "source": [
    "n=5\n",
    "#i=0~2**5\n",
    "for i in range(2**n):\n",
    "    number=[]\n",
    "    print(\"pattern{}:\".format(i),end=\"\")\n",
    "    #j=0,1,2,3,4\n",
    "    for j in range(n):\n",
    "        #i(2進数)をj桁右にシフトさせたとき1桁目が1であるか？\n",
    "        #⇔iのj桁目が1であるか？\n",
    "        if ((i >> j)& 1):\n",
    "            #もしそうならj番目のitemをbagに入れる\n",
    "            number.append(j)\n",
    "    snumber=sum(number) \n",
    "    print(number,end=\"\")\n",
    "    print(\"合計は\",snumber)"
   ]
  },
  {
   "cell_type": "markdown",
   "metadata": {},
   "source": [
    "### stack と queue\n",
    "stackとはデータ構造の一種で，保存するデータを順に積み重ねて記憶し，取り出すときは上に重なっているものから取り出す．**後入れ先出し(LIFO:Last in First out)**の性質をもつ．  \n",
    "一方，queueとは，**先入れ先出し(FIFO:Farst in Farst out)**の性質を持つデータ構造である．"
   ]
  },
  {
   "cell_type": "markdown",
   "metadata": {},
   "source": [
    "#### Pythonにおけるstackとqueue"
   ]
  },
  {
   "cell_type": "markdown",
   "metadata": {},
   "source": [
    "##### stack\n",
    "stackに関しては，普通のリストを用いればstackとして動く．"
   ]
  },
  {
   "cell_type": "code",
   "execution_count": 7,
   "metadata": {},
   "outputs": [],
   "source": [
    "stack=[1,2,3,4,5]"
   ]
  },
  {
   "cell_type": "code",
   "execution_count": 8,
   "metadata": {},
   "outputs": [
    {
     "data": {
      "text/plain": [
       "[1, 2, 3, 4, 5, 6]"
      ]
     },
     "execution_count": 8,
     "metadata": {},
     "output_type": "execute_result"
    }
   ],
   "source": [
    "stack.append(6)\n",
    "stack"
   ]
  },
  {
   "cell_type": "code",
   "execution_count": 9,
   "metadata": {},
   "outputs": [
    {
     "data": {
      "text/plain": [
       "6"
      ]
     },
     "execution_count": 9,
     "metadata": {},
     "output_type": "execute_result"
    }
   ],
   "source": [
    "stack.pop()"
   ]
  },
  {
   "cell_type": "code",
   "execution_count": 10,
   "metadata": {},
   "outputs": [
    {
     "data": {
      "text/plain": [
       "[1, 2, 3, 4, 5]"
      ]
     },
     "execution_count": 10,
     "metadata": {},
     "output_type": "execute_result"
    }
   ],
   "source": [
    "stack"
   ]
  },
  {
   "cell_type": "markdown",
   "metadata": {},
   "source": [
    "##### queue\n",
    "queueに関しては，```collectionsのdeque```を使用する．dequeは両端から出し入れできる両端キューと呼ばれるものである．両端に対して処理を行う場合はリストよりも速く処理が行える一方，両端以外に対してはリストを用いたほうが速い．"
   ]
  },
  {
   "cell_type": "code",
   "execution_count": 11,
   "metadata": {},
   "outputs": [],
   "source": [
    "from collections import deque"
   ]
  },
  {
   "cell_type": "code",
   "execution_count": 22,
   "metadata": {},
   "outputs": [],
   "source": [
    "queue=deque([1,2,3,4,5])"
   ]
  },
  {
   "cell_type": "code",
   "execution_count": 23,
   "metadata": {},
   "outputs": [
    {
     "data": {
      "text/plain": [
       "deque([1, 2, 3, 4, 5, 6])"
      ]
     },
     "execution_count": 23,
     "metadata": {},
     "output_type": "execute_result"
    }
   ],
   "source": [
    "queue.append(6)\n",
    "queue"
   ]
  },
  {
   "cell_type": "code",
   "execution_count": 24,
   "metadata": {},
   "outputs": [
    {
     "data": {
      "text/plain": [
       "1"
      ]
     },
     "execution_count": 24,
     "metadata": {},
     "output_type": "execute_result"
    }
   ],
   "source": [
    "queue.popleft()"
   ]
  },
  {
   "cell_type": "code",
   "execution_count": 25,
   "metadata": {},
   "outputs": [
    {
     "data": {
      "text/plain": [
       "deque([2, 3, 4, 5, 6])"
      ]
     },
     "execution_count": 25,
     "metadata": {},
     "output_type": "execute_result"
    }
   ],
   "source": [
    "queue"
   ]
  },
  {
   "cell_type": "markdown",
   "metadata": {},
   "source": [
    "#### 深さ優先探索と幅優先探索"
   ]
  },
  {
   "cell_type": "markdown",
   "metadata": {},
   "source": [
    "##### 深さ優先探索"
   ]
  },
  {
   "cell_type": "code",
   "execution_count": null,
   "metadata": {},
   "outputs": [],
   "source": []
  }
 ],
 "metadata": {
  "kernelspec": {
   "display_name": "Python 3.8.2 64-bit",
   "language": "python",
   "name": "python38264bite513cacf2d1a40fc96e4023b18037327"
  },
  "language_info": {
   "codemirror_mode": {
    "name": "ipython",
    "version": 3
   },
   "file_extension": ".py",
   "mimetype": "text/x-python",
   "name": "python",
   "nbconvert_exporter": "python",
   "pygments_lexer": "ipython3",
   "version": "3.8.2"
  },
  "toc": {
   "base_numbering": 1,
   "nav_menu": {},
   "number_sections": true,
   "sideBar": true,
   "skip_h1_title": false,
   "title_cell": "Table of Contents",
   "title_sidebar": "Contents",
   "toc_cell": false,
   "toc_position": {},
   "toc_section_display": true,
   "toc_window_display": false
  }
 },
 "nbformat": 4,
 "nbformat_minor": 4
}
